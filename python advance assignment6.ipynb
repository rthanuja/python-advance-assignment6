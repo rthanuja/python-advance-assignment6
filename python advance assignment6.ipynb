{
 "cells": [
  {
   "cell_type": "code",
   "execution_count": null,
   "id": "a4b1dd30",
   "metadata": {},
   "outputs": [],
   "source": [
    "Q1. Describe three applications for exception processing.\n",
    "\n",
    "1.Library\n",
    " A library is a set of functions / classes focusing on some problem domain.\n",
    " Libraries do not control the flow of program. Functions of libraries are called by the main program with some \n",
    " input and they return some output or provide some behaviour \n",
    " e.g, RecommendationEngine executable uses libraries for logging, data access, etc. to perform its job but the flow \n",
    " of program is controlled by the executable only.so,code in a library should not suppress exceptions because that would \n",
    " prevent the calling application from fulfilling alternate flow and logging requirements - \n",
    " it can catch exceptions and rethrow or provide expected output by catching exceptions.\n",
    "2.UI Application\n",
    " Almost all UI applications are written using some framework with the framework calling the application \n",
    " when there is some event. This makes the event handlers an entry point in to the application so exceptions \n",
    " should be caught on event handlers.\n",
    "\n",
    "3.Framework\n",
    " Framework is an implementation of Inversion of Control pattern. Framework discovers, loads and calls \n",
    " its plug-ins on events a plug-in is interested in. Both the framework and the plug-ins communicate with \n",
    " each other using known public interfaces. framework must handle exception in all the places where it is\n",
    " invoking methods on its plug-in. "
   ]
  },
  {
   "cell_type": "code",
   "execution_count": null,
   "id": "92118783",
   "metadata": {},
   "outputs": [],
   "source": [
    "Q2. What happens if you don't do something extra to treat an exception?\n",
    "\n",
    "If exceptions which occur during runtime are not handled,they will abnormally terminate the execution of program.\n",
    "(or crashes the program)"
   ]
  },
  {
   "cell_type": "code",
   "execution_count": null,
   "id": "11425081",
   "metadata": {},
   "outputs": [],
   "source": [
    "Q3. What are your options for recovering from an exception in your script?\n",
    "\n",
    "try and except block helps in recovering from exception in the script."
   ]
  },
  {
   "cell_type": "code",
   "execution_count": null,
   "id": "7c242dd9",
   "metadata": {},
   "outputs": [],
   "source": [
    "Q4. Describe two methods for triggering exceptions in your script.\n",
    "\n",
    "raise and assert keywords are used for triggering exceptions in the script.\n",
    "\n",
    "raise statement raises an exceptions if the condition provided is true.\n",
    "The sole argument in raise indicates the exception to be raised. This must be either an exception instance or an\n",
    "exception class (a class that derives from Exception).\n",
    "\n",
    "Syntax:    \n",
    "raise Exception(<error message>)\n",
    "raise Exception_instance(<error message>)\n",
    "\n",
    "assert statement has a condition or expression which is supposed to be always true. If the condition\n",
    "is false, assert stops the program and gives an AssertionError.\n",
    "\n",
    "Syntax:\n",
    "assert <condition>\n",
    "assert <condition>,<error message>"
   ]
  },
  {
   "cell_type": "code",
   "execution_count": null,
   "id": "26e7351d",
   "metadata": {},
   "outputs": [],
   "source": [
    "Q5. Identify two methods for specifying actions to be executed at termination time, regardless of\n",
    "whether or not an exception exists.\n",
    "\n",
    "The finally keyword in the try-except block is always executed, irrespective of whether there is an exception or not."
   ]
  }
 ],
 "metadata": {
  "kernelspec": {
   "display_name": "Python 3 (ipykernel)",
   "language": "python",
   "name": "python3"
  },
  "language_info": {
   "codemirror_mode": {
    "name": "ipython",
    "version": 3
   },
   "file_extension": ".py",
   "mimetype": "text/x-python",
   "name": "python",
   "nbconvert_exporter": "python",
   "pygments_lexer": "ipython3",
   "version": "3.10.9"
  }
 },
 "nbformat": 4,
 "nbformat_minor": 5
}
